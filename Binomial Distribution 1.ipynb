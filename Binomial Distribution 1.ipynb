{
 "cells": [
  {
   "cell_type": "code",
   "execution_count": 13,
   "metadata": {},
   "outputs": [
    {
     "name": "stdout",
     "output_type": "stream",
     "text": [
      "1.09 1\n",
      "0.696\n"
     ]
    }
   ],
   "source": [
    "from math import factorial as f\n",
    "b, g = map(float, input().split())\n",
    "def comb(n,r):\n",
    "    return(f(n) / (f(r) * f(n-r)))\n",
    "p = b/(b+g)\n",
    "n = 6\n",
    "print(round(sum((p**k) * (1-p)**(n-k) * comb(n,k) for k in range(3,n+1) ),3))"
   ]
  }
 ],
 "metadata": {
  "kernelspec": {
   "display_name": "Python 3",
   "language": "python",
   "name": "python3"
  },
  "language_info": {
   "codemirror_mode": {
    "name": "ipython",
    "version": 3
   },
   "file_extension": ".py",
   "mimetype": "text/x-python",
   "name": "python",
   "nbconvert_exporter": "python",
   "pygments_lexer": "ipython3",
   "version": "3.6.5"
  }
 },
 "nbformat": 4,
 "nbformat_minor": 2
}
